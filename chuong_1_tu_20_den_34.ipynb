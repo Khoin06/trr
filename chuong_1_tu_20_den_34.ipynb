{
 "cells": [
  {
   "cell_type": "code",
   "execution_count": 1,
   "metadata": {},
   "outputs": [],
   "source": [
    "#1.21\n",
    "def tohop(a,r):\n",
    "    if r==1:\n",
    "        return [[i] for i in a]\n",
    "    A=[]\n",
    "    n=len(a)\n",
    "    for i in range (n-r+1):\n",
    "        for c in tohop(a[i+1:],r-1):\n",
    "            c=[a[i]]+c\n",
    "            A.append(c)\n",
    "    return A"
   ]
  },
  {
   "cell_type": "code",
   "execution_count": 7,
   "metadata": {},
   "outputs": [
    {
     "name": "stdout",
     "output_type": "stream",
     "text": [
      "15\n",
      "[['a', 'b'], ['a', 'c'], ['a', 'd'], ['a', 'e'], ['a', 'f'], ['b', 'c'], ['b', 'd'], ['b', 'e'], ['b', 'f'], ['c', 'd'], ['c', 'e'], ['c', 'f'], ['d', 'e'], ['d', 'f'], ['e', 'f']]\n"
     ]
    }
   ],
   "source": [
    "A=['a','b','c','d','e','f']\n",
    "print(len(tohop(A,2)))\n",
    "print(tohop(A,2))"
   ]
  },
  {
   "cell_type": "code",
   "execution_count": 8,
   "metadata": {},
   "outputs": [
    {
     "name": "stdout",
     "output_type": "stream",
     "text": [
      "10\n",
      "[['m', 'r', 'a'], ['m', 'r', 'f'], ['m', 'r', 't'], ['m', 'a', 'f'], ['m', 'a', 't'], ['m', 'f', 't'], ['r', 'a', 'f'], ['r', 'a', 't'], ['r', 'f', 't'], ['a', 'f', 't']]\n"
     ]
    }
   ],
   "source": [
    "B=['m','r','a','f','t']\n",
    "print(len(tohop(B,3)))\n",
    "print(tohop(B,3))"
   ]
  },
  {
   "cell_type": "code",
   "execution_count": 1,
   "metadata": {},
   "outputs": [],
   "source": [
    "from sympy import *"
   ]
  },
  {
   "cell_type": "code",
   "execution_count": 5,
   "metadata": {},
   "outputs": [],
   "source": [
    "# 1.22\n",
    "def c(n,r):\n",
    "    A = factorial(n)/factorial(r)/factorial(n-r)\n",
    "    return A"
   ]
  },
  {
   "cell_type": "code",
   "execution_count": 14,
   "metadata": {},
   "outputs": [
    {
     "data": {
      "text/latex": [
       "$\\displaystyle 210$"
      ],
      "text/plain": [
       "210"
      ]
     },
     "execution_count": 14,
     "metadata": {},
     "output_type": "execute_result"
    }
   ],
   "source": [
    "c(10,4)"
   ]
  },
  {
   "cell_type": "code",
   "execution_count": 15,
   "metadata": {},
   "outputs": [
    {
     "data": {
      "text/latex": [
       "$\\displaystyle 792$"
      ],
      "text/plain": [
       "792"
      ]
     },
     "execution_count": 15,
     "metadata": {},
     "output_type": "execute_result"
    }
   ],
   "source": [
    "c(12,7)"
   ]
  },
  {
   "cell_type": "code",
   "execution_count": 16,
   "metadata": {},
   "outputs": [
    {
     "data": {
      "text/latex": [
       "$\\displaystyle 91$"
      ],
      "text/plain": [
       "91"
      ]
     },
     "execution_count": 16,
     "metadata": {},
     "output_type": "execute_result"
    }
   ],
   "source": [
    "c(14,12)"
   ]
  },
  {
   "cell_type": "code",
   "execution_count": 17,
   "metadata": {},
   "outputs": [
    {
     "data": {
      "text/latex": [
       "$\\displaystyle 3003$"
      ],
      "text/plain": [
       "3003"
      ]
     },
     "execution_count": 17,
     "metadata": {},
     "output_type": "execute_result"
    }
   ],
   "source": [
    "c(15,10)"
   ]
  },
  {
   "cell_type": "code",
   "execution_count": 18,
   "metadata": {},
   "outputs": [],
   "source": [
    "# 1.23\n",
    "# c(n,2)+c(n-1,2)=n(n-1)/2+(n-1)(n-2)/2=(2n-2)(n-1)/2=(n-1)^2"
   ]
  },
  {
   "cell_type": "code",
   "execution_count": 20,
   "metadata": {},
   "outputs": [
    {
     "name": "stdout",
     "output_type": "stream",
     "text": [
      "28\n",
      "70\n",
      "28\n",
      "37\n"
     ]
    }
   ],
   "source": [
    "# 1.24\n",
    "print(c(8,2))\n",
    "print(c(8,4))\n",
    "print(c(8,6))\n",
    "print(c(8,6)+c(8,7)+c(8,8))"
   ]
  },
  {
   "cell_type": "code",
   "execution_count": 15,
   "metadata": {},
   "outputs": [
    {
     "name": "stdout",
     "output_type": "stream",
     "text": [
      "20\n",
      "2\n"
     ]
    }
   ],
   "source": [
    "# 1.25\n",
    "n=6\n",
    "print(c(n,3))\n",
    "print(c(n,3)-n*(n-4)-n)\n",
    "# lấy tổng số tam giác - số tam giác tạo bởi 1 cạnh đa giác(n cạnh đa giác*(n-4) đỉnh còn lại)- số tam giác tạo bởi 2 cạnh đa giác (2 cái hai bên của n cạnh/2 do tam giác đó bị lặp 2 lần) "
   ]
  },
  {
   "cell_type": "code",
   "execution_count": 24,
   "metadata": {},
   "outputs": [
    {
     "name": "stdout",
     "output_type": "stream",
     "text": [
      "Co afx\n",
      "Co cgw\n",
      "Co chx\n",
      "Co dfz\n",
      "96\n"
     ]
    }
   ],
   "source": [
    "# 1.26\n",
    "A=['a','b','c','d']\n",
    "B=['e','f','g','h']\n",
    "C=['u','v','w','x','y','z']\n",
    "count=0\n",
    "for i in A:\n",
    "    for j in B:\n",
    "        for k in C:\n",
    "            if(i+j+k=='afx'): \n",
    "                print(\"Co afx\")\n",
    "            if(i+j+k=='bvx'): \n",
    "                print(\"Co bvx\")\n",
    "            if(i+j+k=='chx'): \n",
    "                print(\"Co chx\")\n",
    "            if(i+j+k=='cgw'): \n",
    "                print(\"Co cgw\")\n",
    "            if(i+j+k=='egu'): \n",
    "                print(\"Co egu\")\n",
    "            if(i+j+k=='dfz'): \n",
    "                print(\"Co dfz\")\n",
    "            count+=1\n",
    "print(count)"
   ]
  },
  {
   "cell_type": "code",
   "execution_count": 26,
   "metadata": {},
   "outputs": [],
   "source": [
    "# 1.27\n",
    "def heso(a,b,m):\n",
    "    return c(m,9)*a**9*b**3"
   ]
  },
  {
   "cell_type": "code",
   "execution_count": 27,
   "metadata": {},
   "outputs": [
    {
     "data": {
      "text/latex": [
       "$\\displaystyle 220$"
      ],
      "text/plain": [
       "220"
      ]
     },
     "execution_count": 27,
     "metadata": {},
     "output_type": "execute_result"
    }
   ],
   "source": [
    "heso(1,1,12)"
   ]
  },
  {
   "cell_type": "code",
   "execution_count": 28,
   "metadata": {},
   "outputs": [
    {
     "data": {
      "text/latex": [
       "$\\displaystyle 1760$"
      ],
      "text/plain": [
       "1760"
      ]
     },
     "execution_count": 28,
     "metadata": {},
     "output_type": "execute_result"
    }
   ],
   "source": [
    "heso(1,2,12)"
   ]
  },
  {
   "cell_type": "code",
   "execution_count": 29,
   "metadata": {},
   "outputs": [
    {
     "data": {
      "text/latex": [
       "$\\displaystyle -3041280$"
      ],
      "text/plain": [
       "-3041280"
      ]
     },
     "execution_count": 29,
     "metadata": {},
     "output_type": "execute_result"
    }
   ],
   "source": [
    "heso(2,-3,12)"
   ]
  },
  {
   "cell_type": "code",
   "execution_count": 48,
   "metadata": {},
   "outputs": [],
   "source": [
    "# 1.29\n",
    "# n*(m+n)!/m!/n!=(m+1)*(m+n)!/(m+1)!/(n-1)!\n",
    "# (m+n)!/m!/(n-1)!=(m+n)!/(m)!/(n-1)!"
   ]
  },
  {
   "cell_type": "code",
   "execution_count": 36,
   "metadata": {},
   "outputs": [
    {
     "data": {
      "text/latex": [
       "$\\displaystyle 59049$"
      ],
      "text/plain": [
       "59049"
      ]
     },
     "execution_count": 36,
     "metadata": {},
     "output_type": "execute_result"
    }
   ],
   "source": [
    "# 1.30\n",
    "n=10\n",
    "i=symbols('i')\n",
    "Sum(2**i*c(n,i),(i,0,n)).doit()\n",
    "# 3**n"
   ]
  },
  {
   "cell_type": "code",
   "execution_count": 37,
   "metadata": {},
   "outputs": [
    {
     "name": "stdout",
     "output_type": "stream",
     "text": [
      "3\n",
      "-3\n"
     ]
    }
   ],
   "source": [
    "# 1.31\n",
    "k=1\n",
    "while (k>=1):\n",
    "    if k**100==Sum(8**i*c(50,i),(i,0,50)).doit():\n",
    "        print(k)\n",
    "        print(-k)\n",
    "        break\n",
    "    k+=1\n",
    "         "
   ]
  },
  {
   "cell_type": "code",
   "execution_count": 40,
   "metadata": {},
   "outputs": [],
   "source": [
    "# 1.32\n",
    "def C(n,r):\n",
    "    if r==0 or r==n:\n",
    "        return 1\n",
    "    return C(n-1,r)+C(n-1,r-1)"
   ]
  },
  {
   "cell_type": "code",
   "execution_count": 42,
   "metadata": {},
   "outputs": [
    {
     "data": {
      "text/plain": [
       "3"
      ]
     },
     "execution_count": 42,
     "metadata": {},
     "output_type": "execute_result"
    }
   ],
   "source": [
    "C(3,2)"
   ]
  },
  {
   "cell_type": "code",
   "execution_count": 43,
   "metadata": {},
   "outputs": [],
   "source": [
    "# 1.33\n",
    "# như 1.21"
   ]
  },
  {
   "cell_type": "code",
   "execution_count": 1,
   "metadata": {},
   "outputs": [],
   "source": [
    "#1.34\n",
    "# (2n)!/(n!)^2=Sum(n!/(k!(n-k)!))=n!/n!+n!/(n-1)!/1!+...+n!/1\n"
   ]
  }
 ],
 "metadata": {
  "kernelspec": {
   "display_name": "Python 3",
   "language": "python",
   "name": "python3"
  },
  "language_info": {
   "codemirror_mode": {
    "name": "ipython",
    "version": 3
   },
   "file_extension": ".py",
   "mimetype": "text/x-python",
   "name": "python",
   "nbconvert_exporter": "python",
   "pygments_lexer": "ipython3",
   "version": "3.11.3"
  },
  "orig_nbformat": 4
 },
 "nbformat": 4,
 "nbformat_minor": 2
}
