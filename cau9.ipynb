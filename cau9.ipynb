{
 "cells": [
  {
   "cell_type": "code",
   "execution_count": 2,
   "metadata": {},
   "outputs": [],
   "source": [
    "def next_permutation(permutation):\n",
    "  \"\"\"\n",
    "  Tìm hoán vị tiếp theo của hoán vị đã cho theo thứ tự từ điển.\n",
    "\n",
    "  Args:\n",
    "    permutation: Một danh sách các số nguyên đại diện cho hoán vị.\n",
    "\n",
    "  Returns:\n",
    "    Danh sách các số nguyên đại diện cho hoán vị tiếp theo.\n",
    "  \"\"\"\n",
    "\n",
    "  # Tìm phần tử đầu tiên từ phải sang trái mà giá trị nhỏ hơn phần tử bên phải.\n",
    "  i = len(permutation) - 2\n",
    "  while i >= 0 and permutation[i] >= permutation[i + 1]:\n",
    "    i -= 1\n",
    "\n",
    "  # Nếu không tìm thấy phần tử như vậy, nghĩa là đây là hoán vị cuối cùng.\n",
    "  if i < 0:\n",
    "    return None\n",
    "\n",
    "  # Tìm phần tử nhỏ nhất trong các phần tử bên phải i mà lớn hơn permutation[i].\n",
    "  j = len(permutation) - 1\n",
    "  while j > i and permutation[j] <= permutation[i]:\n",
    "    j -= 1\n",
    "\n",
    "  # Đổi chỗ hai phần tử i và j.\n",
    "  permutation[i], permutation[j] = permutation[j], permutation[i]\n",
    "\n",
    "  # Lật ngược phần tử từ i + 1 đến cuối danh sách.\n",
    "  permutation[i + 1:] = reversed(permutation[i + 1:])\n",
    "\n",
    "  return permutation"
   ]
  },
  {
   "cell_type": "code",
   "execution_count": 3,
   "metadata": {},
   "outputs": [
    {
     "data": {
      "text/plain": [
       "[2, 3, 1, 4, 5, 6]"
      ]
     },
     "execution_count": 3,
     "metadata": {},
     "output_type": "execute_result"
    }
   ],
   "source": [
    "next_permutation([2,1,6,5,4,3])"
   ]
  },
  {
   "cell_type": "code",
   "execution_count": null,
   "metadata": {},
   "outputs": [],
   "source": [
    "def find_subsets(list_items, k):\n",
    "  \"\"\"\n",
    "  Tìm tất cả các tập hợp con của danh sách có tổng bằng k.\n",
    "\n",
    "  Args:\n",
    "      list_items: Danh sách các số nguyên\n",
    "      k: Số nguyên\n",
    "\n",
    "  Returns:\n",
    "      Danh sách các tập hợp con có tổng bằng k\n",
    "  \"\"\"\n",
    "  subsets = []\n",
    "  \n",
    "  def backtrack(start_index, current_sum, current_subset):\n",
    "    if current_sum == k:\n",
    "      subsets.append(current_subset.copy())\n",
    "      return\n",
    "    \n",
    "    if current_sum > k:\n",
    "      return\n",
    "    \n",
    "    for i in range(start_index, len(list_items)):\n",
    "      current_subset.add(list_items[i])\n",
    "      backtrack(i + 1, current_sum + list_items[i], current_subset)\n",
    "      current_subset.remove(list_items[i])\n",
    "  \n",
    "  backtrack(0, 0, set())\n",
    "  return subsets\n",
    "find_subsets([1,2,5,6,9])"
   ]
  }
 ],
 "metadata": {
  "kernelspec": {
   "display_name": "Python 3",
   "language": "python",
   "name": "python3"
  },
  "language_info": {
   "codemirror_mode": {
    "name": "ipython",
    "version": 3
   },
   "file_extension": ".py",
   "mimetype": "text/x-python",
   "name": "python",
   "nbconvert_exporter": "python",
   "pygments_lexer": "ipython3",
   "version": "3.11.8"
  }
 },
 "nbformat": 4,
 "nbformat_minor": 2
}
