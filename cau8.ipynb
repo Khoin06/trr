{
 "cells": [
  {
   "cell_type": "code",
   "execution_count": null,
   "metadata": {},
   "outputs": [],
   "source": [
    "from math import factorial\n",
    "\n",
    "n_blue = 4  # Số lượng bi xanh\n",
    "n_red = 3  # Số lượng bi đỏ\n",
    "n_yellow = 4  # Số lượng bi vàng\n",
    "\n",
    "total_balls = n_blue + n_red + n_yellow\n",
    "\n",
    "num_permutations = factorial(total_balls) // (factorial(n_blue) * factorial(n_red) * factorial(n_yellow))\n",
    "\n",
    "print(\"Số cách sắp xếp 2 bi xanh, 3 bi đỏ và 2 bi vàng là:\", num_permutations)\n"
   ]
  },
  {
   "cell_type": "code",
   "execution_count": null,
   "metadata": {},
   "outputs": [],
   "source": []
  }
 ],
 "metadata": {
  "language_info": {
   "name": "python"
  }
 },
 "nbformat": 4,
 "nbformat_minor": 2
}
