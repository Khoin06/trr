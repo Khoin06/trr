{
 "cells": [
  {
   "cell_type": "code",
   "execution_count": 3,
   "metadata": {},
   "outputs": [
    {
     "data": {
      "text/latex": [
       "$\\displaystyle \\frac{\\left(n + 1\\right) \\left(n + 2\\right)}{2}$"
      ],
      "text/plain": [
       "(n + 1)*(n + 2)/2"
      ]
     },
     "execution_count": 3,
     "metadata": {},
     "output_type": "execute_result"
    }
   ],
   "source": [
    "from sympy import *\n",
    "n, i = symbols ('n i')\n",
    "Sum (i, (i, 1, n)). doit (). simplify () #chuyển tổng thành đa thức\n",
    "( n*(n+1) /2 + (n+1) ). factor () #phân tích đa thức"
   ]
  },
  {
   "cell_type": "code",
   "execution_count": 6,
   "metadata": {},
   "outputs": [
    {
     "data": {
      "text/plain": [
       "12345"
      ]
     },
     "execution_count": 6,
     "metadata": {},
     "output_type": "execute_result"
    }
   ],
   "source": [
    "# chuyển từ hệ b sang hệ 10\n",
    "a = [1, 7, 0, 0, 3] #30071\n",
    "b = 8\n",
    "n = 0\n",
    "for i in range (len (a) - 1, -1, -1):\n",
    "    n = n * b + a[i]\n",
    "n"
   ]
  },
  {
   "cell_type": "code",
   "execution_count": 7,
   "metadata": {},
   "outputs": [
    {
     "data": {
      "text/plain": [
       "[1, 3, 7, 7, 1]"
      ]
     },
     "execution_count": 7,
     "metadata": {},
     "output_type": "execute_result"
    }
   ],
   "source": [
    "# Khai triển số n theo hệ b\n",
    "n, b = 6137 , 8\n",
    "a = []\n",
    "while n != 0:\n",
    "    a = [n % b] + a\n",
    "    n //= b\n",
    "a"
   ]
  },
  {
   "cell_type": "code",
   "execution_count": 8,
   "metadata": {},
   "outputs": [
    {
     "data": {
      "text/plain": [
       "7"
      ]
     },
     "execution_count": 8,
     "metadata": {},
     "output_type": "execute_result"
    }
   ],
   "source": [
    "import math\n",
    "math . gcd (91 , 287) \n",
    "# from sympy import *\n",
    "# igcd (91 , 287)"
   ]
  },
  {
   "cell_type": "code",
   "execution_count": 9,
   "metadata": {},
   "outputs": [
    {
     "data": {
      "text/plain": [
       "1"
      ]
     },
     "execution_count": 9,
     "metadata": {},
     "output_type": "execute_result"
    }
   ],
   "source": [
    "# đệ quy gcd\n",
    "def gcd(a, b):\n",
    "    if b == 0:\n",
    "        return a\n",
    "    else :\n",
    "        return gcd(b, a % b)\n",
    "gcd(2,3)"
   ]
  },
  {
   "cell_type": "code",
   "execution_count": 10,
   "metadata": {},
   "outputs": [],
   "source": [
    "# quy hoạch động gcd\n",
    "def gcd(a, b):\n",
    "    while b != 0:\n",
    "        r = a % b\n",
    "        a = b\n",
    "        b = r\n",
    "    return a"
   ]
  },
  {
   "cell_type": "code",
   "execution_count": 12,
   "metadata": {},
   "outputs": [
    {
     "data": {
      "text/latex": [
       "$\\displaystyle 1$"
      ],
      "text/plain": [
       "1"
      ]
     },
     "execution_count": 12,
     "metadata": {},
     "output_type": "execute_result"
    }
   ],
   "source": [
    "from sympy import *\n",
    "n = symbols ('n')\n",
    "gcd (8*n + 3, 5*n + 2)"
   ]
  },
  {
   "cell_type": "code",
   "execution_count": 13,
   "metadata": {},
   "outputs": [
    {
     "data": {
      "text/plain": [
       "(19, -6, 7)"
      ]
     },
     "execution_count": 13,
     "metadata": {},
     "output_type": "execute_result"
    }
   ],
   "source": [
    "# lệnh gcdex\n",
    "from sympy import *\n",
    "gcdex (91 , 287)"
   ]
  },
  {
   "cell_type": "code",
   "execution_count": 14,
   "metadata": {},
   "outputs": [
    {
     "data": {
      "text/plain": [
       "(2, -1, 1)"
      ]
     },
     "execution_count": 14,
     "metadata": {},
     "output_type": "execute_result"
    }
   ],
   "source": [
    "# code gcdex\n",
    "def gcdex (a, b):\n",
    "    x0 , y0 = 1, 0\n",
    "    x1 , y1 = 0, 1\n",
    "    while b != 0:\n",
    "        q = a // b\n",
    "        a, b = b, a % b\n",
    "        x = x0 - x1 * q\n",
    "        y = y0 - y1 * q\n",
    "        x0 , y0 = x1 , y1\n",
    "        x1 , y1 = x, y\n",
    "    return x0 , y0 , a\n",
    "gcdex(3,5)"
   ]
  },
  {
   "cell_type": "code",
   "execution_count": 16,
   "metadata": {},
   "outputs": [
    {
     "data": {
      "text/plain": [
       "3192"
      ]
     },
     "execution_count": 16,
     "metadata": {},
     "output_type": "execute_result"
    }
   ],
   "source": [
    "# lệnh lcm\n",
    "from sympy import *\n",
    "ilcm (456 , 168)"
   ]
  },
  {
   "cell_type": "code",
   "execution_count": 17,
   "metadata": {},
   "outputs": [
    {
     "data": {
      "text/plain": [
       "{2: 2, 3: 1, 5: 1, 17: 1, 31: 2}"
      ]
     },
     "execution_count": 17,
     "metadata": {},
     "output_type": "execute_result"
    }
   ],
   "source": [
    "# lệnh phân tích 1 số thành tích các số nguyên tố \n",
    "from sympy import *\n",
    "factorint (980220) "
   ]
  },
  {
   "cell_type": "code",
   "execution_count": 18,
   "metadata": {},
   "outputs": [],
   "source": [
    "# code phân tích 1 số thành tích các số nguyên tố \n",
    "def factorint (n):\n",
    "    i = 2\n",
    "    fact = {}\n",
    "    while n > 1:\n",
    "        while n % i != 0:\n",
    "            i += 1\n",
    "        e = 0\n",
    "        while n % i == 0:\n",
    "            n //= i\n",
    "            e += 1\n",
    "        fact [i] = e\n",
    "    return fact"
   ]
  }
 ],
 "metadata": {
  "kernelspec": {
   "display_name": "Python 3",
   "language": "python",
   "name": "python3"
  },
  "language_info": {
   "codemirror_mode": {
    "name": "ipython",
    "version": 3
   },
   "file_extension": ".py",
   "mimetype": "text/x-python",
   "name": "python",
   "nbconvert_exporter": "python",
   "pygments_lexer": "ipython3",
   "version": "3.11.3"
  },
  "orig_nbformat": 4
 },
 "nbformat": 4,
 "nbformat_minor": 2
}
