{
 "cells": [
  {
   "cell_type": "code",
   "execution_count": 6,
   "metadata": {},
   "outputs": [],
   "source": [
    "def chinhhopso(n,r):\n",
    "    if r==1:\n",
    "        return [[i] for i in range (1,n+1)]\n",
    "    A=[]\n",
    "    for a in chinhhopso(n,r-1):\n",
    "        C= set([i for i in range (1,n+1)])-set(a)\n",
    "        for i in C:\n",
    "            b=a.copy()\n",
    "            b.append(i)\n",
    "            A.append(b)\n",
    "    return A\n"
   ]
  },
  {
   "cell_type": "code",
   "execution_count": 8,
   "metadata": {},
   "outputs": [
    {
     "data": {
      "text/plain": [
       "20"
      ]
     },
     "execution_count": 8,
     "metadata": {},
     "output_type": "execute_result"
    }
   ],
   "source": [
    "len(chinhhopso(5,2))"
   ]
  },
  {
   "cell_type": "code",
   "execution_count": 12,
   "metadata": {},
   "outputs": [
    {
     "data": {
      "text/plain": [
       "[['a', 'd', 'b'],\n",
       " ['a', 'd', 'c'],\n",
       " ['a', 'd', 'e'],\n",
       " ['a', 'b', 'd'],\n",
       " ['a', 'b', 'c'],\n",
       " ['a', 'b', 'e'],\n",
       " ['a', 'c', 'd'],\n",
       " ['a', 'c', 'b'],\n",
       " ['a', 'c', 'e'],\n",
       " ['a', 'e', 'd'],\n",
       " ['a', 'e', 'b'],\n",
       " ['a', 'e', 'c'],\n",
       " ['b', 'd', 'a'],\n",
       " ['b', 'd', 'c'],\n",
       " ['b', 'd', 'e'],\n",
       " ['b', 'c', 'd'],\n",
       " ['b', 'c', 'a'],\n",
       " ['b', 'c', 'e'],\n",
       " ['b', 'a', 'd'],\n",
       " ['b', 'a', 'c'],\n",
       " ['b', 'a', 'e'],\n",
       " ['b', 'e', 'd'],\n",
       " ['b', 'e', 'c'],\n",
       " ['b', 'e', 'a'],\n",
       " ['c', 'd', 'a'],\n",
       " ['c', 'd', 'b'],\n",
       " ['c', 'd', 'e'],\n",
       " ['c', 'b', 'd'],\n",
       " ['c', 'b', 'a'],\n",
       " ['c', 'b', 'e'],\n",
       " ['c', 'a', 'd'],\n",
       " ['c', 'a', 'b'],\n",
       " ['c', 'a', 'e'],\n",
       " ['c', 'e', 'd'],\n",
       " ['c', 'e', 'b'],\n",
       " ['c', 'e', 'a'],\n",
       " ['d', 'a', 'b'],\n",
       " ['d', 'a', 'c'],\n",
       " ['d', 'a', 'e'],\n",
       " ['d', 'b', 'a'],\n",
       " ['d', 'b', 'c'],\n",
       " ['d', 'b', 'e'],\n",
       " ['d', 'c', 'a'],\n",
       " ['d', 'c', 'b'],\n",
       " ['d', 'c', 'e'],\n",
       " ['d', 'e', 'a'],\n",
       " ['d', 'e', 'b'],\n",
       " ['d', 'e', 'c'],\n",
       " ['e', 'd', 'a'],\n",
       " ['e', 'd', 'b'],\n",
       " ['e', 'd', 'c'],\n",
       " ['e', 'b', 'd'],\n",
       " ['e', 'b', 'c'],\n",
       " ['e', 'b', 'a'],\n",
       " ['e', 'c', 'd'],\n",
       " ['e', 'c', 'b'],\n",
       " ['e', 'c', 'a'],\n",
       " ['e', 'a', 'd'],\n",
       " ['e', 'a', 'b'],\n",
       " ['e', 'a', 'c']]"
      ]
     },
     "execution_count": 12,
     "metadata": {},
     "output_type": "execute_result"
    }
   ],
   "source": [
    "def chinhhop(l,r):\n",
    "    if r==1:\n",
    "        return [[i] for i in l]\n",
    "    A=[]\n",
    "    for a in chinhhop(l,r-1):\n",
    "        C= set([i for i in l])-set(a)\n",
    "        for i in C:\n",
    "            b=a.copy()\n",
    "            b.append(i)\n",
    "            A.append(b)\n",
    "    return A\n",
    "chinhhop(['a','b','c','d','e'],3)"
   ]
  }
 ],
 "metadata": {
  "kernelspec": {
   "display_name": "Python 3",
   "language": "python",
   "name": "python3"
  },
  "language_info": {
   "codemirror_mode": {
    "name": "ipython",
    "version": 3
   },
   "file_extension": ".py",
   "mimetype": "text/x-python",
   "name": "python",
   "nbconvert_exporter": "python",
   "pygments_lexer": "ipython3",
   "version": "3.11.8"
  }
 },
 "nbformat": 4,
 "nbformat_minor": 2
}
