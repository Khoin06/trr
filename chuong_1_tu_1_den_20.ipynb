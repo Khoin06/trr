{
 "cells": [
  {
   "cell_type": "code",
   "execution_count": 1,
   "metadata": {},
   "outputs": [],
   "source": [
    "# 1.1\n",
    "def xaunhiphan(n):\n",
    "    if n==1:\n",
    "        return [[0],[1]]\n",
    "    A = []\n",
    "    for a in xaunhiphan(n-1):\n",
    "        for i in range (0,2):\n",
    "            b=a.copy()\n",
    "            b.append(i)\n",
    "            A.append(b)\n",
    "    return A"
   ]
  },
  {
   "cell_type": "code",
   "execution_count": 2,
   "metadata": {},
   "outputs": [
    {
     "data": {
      "text/plain": [
       "[[0, 0, 0, 0],\n",
       " [0, 0, 0, 1],\n",
       " [0, 0, 1, 0],\n",
       " [0, 0, 1, 1],\n",
       " [0, 1, 0, 0],\n",
       " [0, 1, 0, 1],\n",
       " [0, 1, 1, 0],\n",
       " [0, 1, 1, 1],\n",
       " [1, 0, 0, 0],\n",
       " [1, 0, 0, 1],\n",
       " [1, 0, 1, 0],\n",
       " [1, 0, 1, 1],\n",
       " [1, 1, 0, 0],\n",
       " [1, 1, 0, 1],\n",
       " [1, 1, 1, 0],\n",
       " [1, 1, 1, 1]]"
      ]
     },
     "execution_count": 2,
     "metadata": {},
     "output_type": "execute_result"
    }
   ],
   "source": [
    "xaunhiphan(4)"
   ]
  },
  {
   "cell_type": "code",
   "execution_count": 3,
   "metadata": {},
   "outputs": [
    {
     "name": "stdout",
     "output_type": "stream",
     "text": [
      "102\n",
      "104\n",
      "106\n",
      "108\n",
      "120\n",
      "124\n",
      "126\n",
      "128\n",
      "130\n",
      "132\n",
      "134\n",
      "136\n",
      "138\n",
      "140\n",
      "142\n",
      "146\n",
      "148\n",
      "150\n",
      "152\n",
      "154\n",
      "156\n",
      "158\n",
      "160\n",
      "162\n",
      "164\n",
      "168\n",
      "170\n",
      "172\n",
      "174\n",
      "176\n",
      "178\n",
      "180\n",
      "182\n",
      "184\n",
      "186\n",
      "190\n",
      "192\n",
      "194\n",
      "196\n",
      "198\n",
      "204\n",
      "206\n",
      "208\n",
      "210\n",
      "214\n",
      "216\n",
      "218\n",
      "230\n",
      "234\n",
      "236\n",
      "238\n",
      "240\n",
      "246\n",
      "248\n",
      "250\n",
      "254\n",
      "256\n",
      "258\n",
      "260\n",
      "264\n",
      "268\n",
      "270\n",
      "274\n",
      "276\n",
      "278\n",
      "280\n",
      "284\n",
      "286\n",
      "290\n",
      "294\n",
      "296\n",
      "298\n",
      "302\n",
      "304\n",
      "306\n",
      "308\n",
      "310\n",
      "312\n",
      "314\n",
      "316\n",
      "318\n",
      "320\n",
      "324\n",
      "326\n",
      "328\n",
      "340\n",
      "342\n",
      "346\n",
      "348\n",
      "350\n",
      "352\n",
      "354\n",
      "356\n",
      "358\n",
      "360\n",
      "362\n",
      "364\n",
      "368\n",
      "370\n",
      "372\n",
      "374\n",
      "376\n",
      "378\n",
      "380\n",
      "382\n",
      "384\n",
      "386\n",
      "390\n",
      "392\n",
      "394\n",
      "396\n",
      "398\n",
      "402\n",
      "406\n",
      "408\n",
      "410\n",
      "412\n",
      "416\n",
      "418\n",
      "420\n",
      "426\n",
      "428\n",
      "430\n",
      "432\n",
      "436\n",
      "438\n",
      "450\n",
      "452\n",
      "456\n",
      "458\n",
      "460\n",
      "462\n",
      "468\n",
      "470\n",
      "472\n",
      "476\n",
      "478\n",
      "480\n",
      "482\n",
      "486\n",
      "490\n",
      "492\n",
      "496\n",
      "498\n",
      "502\n",
      "504\n",
      "506\n",
      "508\n",
      "510\n",
      "512\n",
      "514\n",
      "516\n",
      "518\n",
      "520\n",
      "524\n",
      "526\n",
      "528\n",
      "530\n",
      "532\n",
      "534\n",
      "536\n",
      "538\n",
      "540\n",
      "542\n",
      "546\n",
      "548\n",
      "560\n",
      "562\n",
      "564\n",
      "568\n",
      "570\n",
      "572\n",
      "574\n",
      "576\n",
      "578\n",
      "580\n",
      "582\n",
      "584\n",
      "586\n",
      "590\n",
      "592\n",
      "594\n",
      "596\n",
      "598\n",
      "602\n",
      "604\n",
      "608\n",
      "610\n",
      "612\n",
      "614\n",
      "618\n",
      "620\n",
      "624\n",
      "628\n",
      "630\n",
      "632\n",
      "634\n",
      "638\n",
      "640\n",
      "642\n",
      "648\n",
      "650\n",
      "652\n",
      "654\n",
      "658\n",
      "670\n",
      "672\n",
      "674\n",
      "678\n",
      "680\n",
      "682\n",
      "684\n",
      "690\n",
      "692\n",
      "694\n",
      "698\n",
      "702\n",
      "704\n",
      "706\n",
      "708\n",
      "710\n",
      "712\n",
      "714\n",
      "716\n",
      "718\n",
      "720\n",
      "724\n",
      "726\n",
      "728\n",
      "730\n",
      "732\n",
      "734\n",
      "736\n",
      "738\n",
      "740\n",
      "742\n",
      "746\n",
      "748\n",
      "750\n",
      "752\n",
      "754\n",
      "756\n",
      "758\n",
      "760\n",
      "762\n",
      "764\n",
      "768\n",
      "780\n",
      "782\n",
      "784\n",
      "786\n",
      "790\n",
      "792\n",
      "794\n",
      "796\n",
      "798\n",
      "802\n",
      "804\n",
      "806\n",
      "810\n",
      "812\n",
      "814\n",
      "816\n",
      "820\n",
      "824\n",
      "826\n",
      "830\n",
      "832\n",
      "834\n",
      "836\n",
      "840\n",
      "842\n",
      "846\n",
      "850\n",
      "852\n",
      "854\n",
      "856\n",
      "860\n",
      "862\n",
      "864\n",
      "870\n",
      "872\n",
      "874\n",
      "876\n",
      "890\n",
      "892\n",
      "894\n",
      "896\n",
      "902\n",
      "904\n",
      "906\n",
      "908\n",
      "910\n",
      "912\n",
      "914\n",
      "916\n",
      "918\n",
      "920\n",
      "924\n",
      "926\n",
      "928\n",
      "930\n",
      "932\n",
      "934\n",
      "936\n",
      "938\n",
      "940\n",
      "942\n",
      "946\n",
      "948\n",
      "950\n",
      "952\n",
      "954\n",
      "956\n",
      "958\n",
      "960\n",
      "962\n",
      "964\n",
      "968\n",
      "970\n",
      "972\n",
      "974\n",
      "976\n",
      "978\n",
      "980\n",
      "982\n",
      "984\n",
      "986\n"
     ]
    }
   ],
   "source": [
    "# 1.2\n",
    "A=[0,1,2,3,4,5,6,7,8,9]\n",
    "for i in range (1,10):\n",
    "    B=A.copy()\n",
    "    B.remove(i)\n",
    "    for j in B:\n",
    "        C=B.copy()\n",
    "        C.remove(j)\n",
    "        for k in C:\n",
    "            if k%2==0:\n",
    "                print(i*100+j*10+k)"
   ]
  },
  {
   "cell_type": "code",
   "execution_count": 4,
   "metadata": {},
   "outputs": [],
   "source": [
    "# 1.6\n",
    "def trldungsai(n):\n",
    "    if n==1:\n",
    "        return [['d'],['s']]\n",
    "    A = []\n",
    "    for a in trldungsai(n-1):\n",
    "        for i in ('d','s'):\n",
    "            b=a.copy()\n",
    "            b.append(i)\n",
    "            A.append(b)\n",
    "    return A"
   ]
  },
  {
   "cell_type": "code",
   "execution_count": 7,
   "metadata": {},
   "outputs": [
    {
     "data": {
      "text/plain": [
       "1024"
      ]
     },
     "execution_count": 7,
     "metadata": {},
     "output_type": "execute_result"
    }
   ],
   "source": [
    "len(trldungsai(10))"
   ]
  },
  {
   "cell_type": "code",
   "execution_count": 8,
   "metadata": {},
   "outputs": [],
   "source": [
    "def cokotrl(n):\n",
    "    if n==1:\n",
    "        return [['d'],['s'],['']]\n",
    "    A = []\n",
    "    for a in cokotrl(n-1):\n",
    "        for i in ('d','s',''):\n",
    "            b=a.copy()\n",
    "            b.append(i)\n",
    "            A.append(b)\n",
    "    return A"
   ]
  },
  {
   "cell_type": "code",
   "execution_count": 9,
   "metadata": {},
   "outputs": [
    {
     "data": {
      "text/plain": [
       "59049"
      ]
     },
     "execution_count": 9,
     "metadata": {},
     "output_type": "execute_result"
    }
   ],
   "source": [
    "len(cokotrl(10))"
   ]
  },
  {
   "cell_type": "code",
   "execution_count": 10,
   "metadata": {},
   "outputs": [],
   "source": [
    "from sympy import *"
   ]
  },
  {
   "cell_type": "code",
   "execution_count": 11,
   "metadata": {},
   "outputs": [
    {
     "name": "stdout",
     "output_type": "stream",
     "text": [
      "145\n"
     ]
    }
   ],
   "source": [
    "# 1.7\n",
    "for a in range (1,10):\n",
    "    for b in range (0,10):\n",
    "        for c in range (0,10):\n",
    "            if a*100+b*10+c == factorial(a)+factorial(b)+factorial(c):\n",
    "                print(a*100+b*10+c)"
   ]
  },
  {
   "cell_type": "code",
   "execution_count": 12,
   "metadata": {},
   "outputs": [
    {
     "data": {
      "text/latex": [
       "$\\displaystyle 97$"
      ],
      "text/plain": [
       "97"
      ]
     },
     "execution_count": 12,
     "metadata": {},
     "output_type": "execute_result"
    }
   ],
   "source": [
    "# 1.8\n",
    "n, i = symbols('n i')\n",
    "Sum(i*i+1, (i,1,6)).doit()"
   ]
  },
  {
   "cell_type": "code",
   "execution_count": 13,
   "metadata": {},
   "outputs": [
    {
     "data": {
      "text/latex": [
       "$\\displaystyle -5$"
      ],
      "text/plain": [
       "-5"
      ]
     },
     "execution_count": 13,
     "metadata": {},
     "output_type": "execute_result"
    }
   ],
   "source": [
    "j = symbols('j')\n",
    "Sum(j**3-1, (j,-2,2)).doit()"
   ]
  },
  {
   "cell_type": "code",
   "execution_count": 14,
   "metadata": {},
   "outputs": [
    {
     "data": {
      "text/latex": [
       "$\\displaystyle 12$"
      ],
      "text/plain": [
       "12"
      ]
     },
     "execution_count": 14,
     "metadata": {},
     "output_type": "execute_result"
    }
   ],
   "source": [
    "i = symbols('i')\n",
    "Sum(1+(-1)**i, (i,0,10)).doit()"
   ]
  },
  {
   "cell_type": "code",
   "execution_count": 15,
   "metadata": {},
   "outputs": [
    {
     "data": {
      "text/latex": [
       "$\\displaystyle 3$"
      ],
      "text/plain": [
       "3"
      ]
     },
     "execution_count": 15,
     "metadata": {},
     "output_type": "execute_result"
    }
   ],
   "source": [
    "i = symbols('i')\n",
    "Sum(i*(-1)**i, (i,1,6)).doit()"
   ]
  },
  {
   "cell_type": "code",
   "execution_count": 16,
   "metadata": {},
   "outputs": [
    {
     "data": {
      "text/latex": [
       "$\\displaystyle 0$"
      ],
      "text/plain": [
       "0"
      ]
     },
     "execution_count": 16,
     "metadata": {},
     "output_type": "execute_result"
    }
   ],
   "source": [
    "k = symbols('k')\n",
    "n = symbols('n', odd=true)\n",
    "Sum((-1)**k,(k,n,2*n)).doit()"
   ]
  },
  {
   "cell_type": "code",
   "execution_count": 17,
   "metadata": {},
   "outputs": [],
   "source": [
    "# 1.10\n",
    "def matrix_mul (A, B):\n",
    "    m, n = len(A), len(B)\n",
    "    p = len(B [0])\n",
    "    C = [[0 for j in range (p)] for i in range (m)]\n",
    "    for i in range (m):\n",
    "        for j in range (p):\n",
    "            for k in range (n): \n",
    "                C[i][j] += A[i][k] * B[k][j]\n",
    "    return C"
   ]
  },
  {
   "cell_type": "code",
   "execution_count": 18,
   "metadata": {},
   "outputs": [
    {
     "data": {
      "text/plain": [
       "[[3, -2, 4, -1], [12, 8, 2, 10]]"
      ]
     },
     "execution_count": 18,
     "metadata": {},
     "output_type": "execute_result"
    }
   ],
   "source": [
    "A=[[2,0,-1],[1,3,-2]]\n",
    "B=[[0,-1,1,0],[2,3,-1,4],[-3,0,-2,1]]\n",
    "matrix_mul(A,B)"
   ]
  },
  {
   "cell_type": "code",
   "execution_count": 19,
   "metadata": {},
   "outputs": [],
   "source": [
    "# 1.11\n",
    "def per(l):\n",
    "    if len(l)==1:\n",
    "        return [l]\n",
    "    A=[]\n",
    "    n=len(l)\n",
    "    for i in range (n):\n",
    "        lc=l.copy()\n",
    "        x=lc.pop(i)\n",
    "        for a in per(lc):\n",
    "            a.insert(0,x)\n",
    "            A.append(a)\n",
    "    return A"
   ]
  },
  {
   "cell_type": "code",
   "execution_count": 20,
   "metadata": {},
   "outputs": [
    {
     "data": {
      "text/plain": [
       "[['F', 'I', 'T'],\n",
       " ['F', 'T', 'I'],\n",
       " ['I', 'F', 'T'],\n",
       " ['I', 'T', 'F'],\n",
       " ['T', 'F', 'I'],\n",
       " ['T', 'I', 'F']]"
      ]
     },
     "execution_count": 20,
     "metadata": {},
     "output_type": "execute_result"
    }
   ],
   "source": [
    "per(['F','I','T'])"
   ]
  },
  {
   "cell_type": "code",
   "execution_count": 21,
   "metadata": {},
   "outputs": [
    {
     "data": {
      "text/plain": [
       "[['H', 'U', 'C', 'E'],\n",
       " ['H', 'U', 'E', 'C'],\n",
       " ['H', 'C', 'U', 'E'],\n",
       " ['H', 'C', 'E', 'U'],\n",
       " ['H', 'E', 'U', 'C'],\n",
       " ['H', 'E', 'C', 'U'],\n",
       " ['U', 'H', 'C', 'E'],\n",
       " ['U', 'H', 'E', 'C'],\n",
       " ['U', 'C', 'H', 'E'],\n",
       " ['U', 'C', 'E', 'H'],\n",
       " ['U', 'E', 'H', 'C'],\n",
       " ['U', 'E', 'C', 'H'],\n",
       " ['C', 'H', 'U', 'E'],\n",
       " ['C', 'H', 'E', 'U'],\n",
       " ['C', 'U', 'H', 'E'],\n",
       " ['C', 'U', 'E', 'H'],\n",
       " ['C', 'E', 'H', 'U'],\n",
       " ['C', 'E', 'U', 'H'],\n",
       " ['E', 'H', 'U', 'C'],\n",
       " ['E', 'H', 'C', 'U'],\n",
       " ['E', 'U', 'H', 'C'],\n",
       " ['E', 'U', 'C', 'H'],\n",
       " ['E', 'C', 'H', 'U'],\n",
       " ['E', 'C', 'U', 'H']]"
      ]
     },
     "execution_count": 21,
     "metadata": {},
     "output_type": "execute_result"
    }
   ],
   "source": [
    "per(['H','U','C','E'])"
   ]
  },
  {
   "cell_type": "code",
   "execution_count": 22,
   "metadata": {},
   "outputs": [
    {
     "name": "stdout",
     "output_type": "stream",
     "text": [
      "40320\n",
      "5040\n",
      "720\n"
     ]
    }
   ],
   "source": [
    "# 1.12\n",
    "l=['a','c','f','g','i','t','w','x']\n",
    "print(len(per(l)))\n",
    "x=l.pop(5)\n",
    "print(len(per(l)))\n",
    "y=l.pop(1)\n",
    "print(len(per(l)))\n"
   ]
  },
  {
   "cell_type": "code",
   "execution_count": 23,
   "metadata": {},
   "outputs": [],
   "source": [
    "# 1.13\n",
    "def permutations(n,r):\n",
    "    if r==1:\n",
    "        return [[i] for i in range (1,n+1)]\n",
    "    A=[]\n",
    "    for a in permutations(n,r-1):\n",
    "        C= set([i for i in range (1,n+1)])-set(a)\n",
    "        for i in C:\n",
    "            b=a.copy()\n",
    "            b.append(i)\n",
    "            A.append(b)\n",
    "    return A\n"
   ]
  },
  {
   "cell_type": "code",
   "execution_count": 24,
   "metadata": {},
   "outputs": [],
   "source": [
    "def permutations1(l,r):\n",
    "    if r==1:\n",
    "        return [[i] for i in l]\n",
    "    A=[]\n",
    "    for a in permutations1(l,r-1):\n",
    "        C= set([i for i in l])-set(a)\n",
    "        for i in C:\n",
    "            b=a.copy()\n",
    "            b.append(i)\n",
    "            A.append(b)\n",
    "    return A\n"
   ]
  },
  {
   "cell_type": "code",
   "execution_count": 25,
   "metadata": {},
   "outputs": [
    {
     "data": {
      "text/plain": [
       "[['m', 'f', 'a'],\n",
       " ['m', 'f', 't'],\n",
       " ['m', 'f', 'r'],\n",
       " ['m', 'a', 'f'],\n",
       " ['m', 'a', 't'],\n",
       " ['m', 'a', 'r'],\n",
       " ['m', 't', 'f'],\n",
       " ['m', 't', 'a'],\n",
       " ['m', 't', 'r'],\n",
       " ['m', 'r', 'f'],\n",
       " ['m', 'r', 'a'],\n",
       " ['m', 'r', 't'],\n",
       " ['r', 'f', 'm'],\n",
       " ['r', 'f', 'a'],\n",
       " ['r', 'f', 't'],\n",
       " ['r', 'm', 'f'],\n",
       " ['r', 'm', 'a'],\n",
       " ['r', 'm', 't'],\n",
       " ['r', 'a', 'f'],\n",
       " ['r', 'a', 'm'],\n",
       " ['r', 'a', 't'],\n",
       " ['r', 't', 'f'],\n",
       " ['r', 't', 'm'],\n",
       " ['r', 't', 'a'],\n",
       " ['a', 'f', 'm'],\n",
       " ['a', 'f', 't'],\n",
       " ['a', 'f', 'r'],\n",
       " ['a', 'm', 'f'],\n",
       " ['a', 'm', 't'],\n",
       " ['a', 'm', 'r'],\n",
       " ['a', 't', 'f'],\n",
       " ['a', 't', 'm'],\n",
       " ['a', 't', 'r'],\n",
       " ['a', 'r', 'f'],\n",
       " ['a', 'r', 'm'],\n",
       " ['a', 'r', 't'],\n",
       " ['f', 'm', 'a'],\n",
       " ['f', 'm', 't'],\n",
       " ['f', 'm', 'r'],\n",
       " ['f', 'a', 'm'],\n",
       " ['f', 'a', 't'],\n",
       " ['f', 'a', 'r'],\n",
       " ['f', 'r', 'm'],\n",
       " ['f', 'r', 'a'],\n",
       " ['f', 'r', 't'],\n",
       " ['f', 't', 'm'],\n",
       " ['f', 't', 'a'],\n",
       " ['f', 't', 'r'],\n",
       " ['t', 'f', 'm'],\n",
       " ['t', 'f', 'a'],\n",
       " ['t', 'f', 'r'],\n",
       " ['t', 'm', 'f'],\n",
       " ['t', 'm', 'a'],\n",
       " ['t', 'm', 'r'],\n",
       " ['t', 'a', 'f'],\n",
       " ['t', 'a', 'm'],\n",
       " ['t', 'a', 'r'],\n",
       " ['t', 'r', 'f'],\n",
       " ['t', 'r', 'm'],\n",
       " ['t', 'r', 'a']]"
      ]
     },
     "execution_count": 25,
     "metadata": {},
     "output_type": "execute_result"
    }
   ],
   "source": [
    "A = ['m','r','a','f','t']\n",
    "permutations1(A,3)"
   ]
  },
  {
   "cell_type": "code",
   "execution_count": 26,
   "metadata": {},
   "outputs": [],
   "source": [
    "# 1.14\n",
    "def P(n,r):\n",
    "    A=1\n",
    "    for i in range (0,r):\n",
    "        A=A*(n-i)\n",
    "    return A"
   ]
  },
  {
   "cell_type": "code",
   "execution_count": 27,
   "metadata": {},
   "outputs": [
    {
     "data": {
      "text/plain": [
       "42"
      ]
     },
     "execution_count": 27,
     "metadata": {},
     "output_type": "execute_result"
    }
   ],
   "source": [
    "P(7,2)"
   ]
  },
  {
   "cell_type": "code",
   "execution_count": 28,
   "metadata": {},
   "outputs": [
    {
     "data": {
      "text/plain": [
       "1680"
      ]
     },
     "execution_count": 28,
     "metadata": {},
     "output_type": "execute_result"
    }
   ],
   "source": [
    "P(8,4)"
   ]
  },
  {
   "cell_type": "code",
   "execution_count": 29,
   "metadata": {},
   "outputs": [
    {
     "data": {
      "text/plain": [
       "604800"
      ]
     },
     "execution_count": 29,
     "metadata": {},
     "output_type": "execute_result"
    }
   ],
   "source": [
    "P(10,7)"
   ]
  },
  {
   "cell_type": "code",
   "execution_count": 30,
   "metadata": {},
   "outputs": [
    {
     "data": {
      "text/plain": [
       "1320"
      ]
     },
     "execution_count": 30,
     "metadata": {},
     "output_type": "execute_result"
    }
   ],
   "source": [
    "P(12,3)"
   ]
  },
  {
   "cell_type": "code",
   "execution_count": 31,
   "metadata": {},
   "outputs": [],
   "source": [
    "from sympy import *"
   ]
  },
  {
   "cell_type": "code",
   "execution_count": 32,
   "metadata": {},
   "outputs": [
    {
     "data": {
      "text/latex": [
       "$\\displaystyle 24$"
      ],
      "text/plain": [
       "24"
      ]
     },
     "execution_count": 32,
     "metadata": {},
     "output_type": "execute_result"
    }
   ],
   "source": [
    "# 1.15\n",
    "factorial(4)"
   ]
  },
  {
   "cell_type": "code",
   "execution_count": 33,
   "metadata": {},
   "outputs": [],
   "source": [
    "# 1.17\n",
    "def pp(e,r):\n",
    "    n=1\n",
    "    while(n>=1):\n",
    "        n+=1\n",
    "        if P(n,r)==e:\n",
    "            return n"
   ]
  },
  {
   "cell_type": "code",
   "execution_count": 34,
   "metadata": {},
   "outputs": [
    {
     "data": {
      "text/plain": [
       "10"
      ]
     },
     "execution_count": 34,
     "metadata": {},
     "output_type": "execute_result"
    }
   ],
   "source": [
    "pp(90,2)"
   ]
  },
  {
   "cell_type": "code",
   "execution_count": 35,
   "metadata": {},
   "outputs": [],
   "source": [
    "def pp2(a,r,b,t):\n",
    "    n=1\n",
    "    while(n>=1):\n",
    "        n+=1\n",
    "        if a*P(n,r)==b*P(n,t):\n",
    "            return n"
   ]
  },
  {
   "cell_type": "code",
   "execution_count": 36,
   "metadata": {},
   "outputs": [
    {
     "data": {
      "text/plain": [
       "5"
      ]
     },
     "execution_count": 36,
     "metadata": {},
     "output_type": "execute_result"
    }
   ],
   "source": [
    "pp2(1,3,3,2)"
   ]
  },
  {
   "cell_type": "code",
   "execution_count": 37,
   "metadata": {},
   "outputs": [],
   "source": [
    "def pp3(a,r,c,b,t):\n",
    "    n=1\n",
    "    while(n>=1):\n",
    "        n+=1\n",
    "        if a*P(n,r)+c==b*P(2*n,t):\n",
    "            return n"
   ]
  },
  {
   "cell_type": "code",
   "execution_count": 38,
   "metadata": {},
   "outputs": [
    {
     "data": {
      "text/plain": [
       "5"
      ]
     },
     "execution_count": 38,
     "metadata": {},
     "output_type": "execute_result"
    }
   ],
   "source": [
    "pp3(2,2,50,1,2)"
   ]
  },
  {
   "cell_type": "code",
   "execution_count": 39,
   "metadata": {},
   "outputs": [
    {
     "data": {
      "text/plain": [
       "[-9, 10]"
      ]
     },
     "execution_count": 39,
     "metadata": {},
     "output_type": "execute_result"
    }
   ],
   "source": [
    "P = lambda n, r: factorial(n)/factorial(n-r)\n",
    "n = symbols('n')\n",
    "solve((P(n,2)-90).simplify(),n)"
   ]
  },
  {
   "cell_type": "code",
   "execution_count": 44,
   "metadata": {},
   "outputs": [],
   "source": [
    "# 1.18\n",
    "def giaithua(n):\n",
    "    A = 1\n",
    "    for i in range (1, n+1):\n",
    "        A = A * i \n",
    "    return A"
   ]
  },
  {
   "cell_type": "code",
   "execution_count": 45,
   "metadata": {},
   "outputs": [
    {
     "data": {
      "text/plain": [
       "24"
      ]
     },
     "execution_count": 45,
     "metadata": {},
     "output_type": "execute_result"
    }
   ],
   "source": [
    "giaithua(4)"
   ]
  },
  {
   "cell_type": "code",
   "execution_count": 48,
   "metadata": {},
   "outputs": [],
   "source": [
    "# 1.19\n",
    "def hoanvi(n):\n",
    "    if n==1:\n",
    "        return [[1]]\n",
    "    A=[]\n",
    "    for a in hoanvi(n-1):\n",
    "        for i in range (n):\n",
    "            b=a.copy()\n",
    "            b.insert(i,n)\n",
    "            A.append(b)\n",
    "    return A"
   ]
  },
  {
   "cell_type": "code",
   "execution_count": 49,
   "metadata": {},
   "outputs": [
    {
     "data": {
      "text/plain": [
       "[[3, 2, 1], [2, 3, 1], [2, 1, 3], [3, 1, 2], [1, 3, 2], [1, 2, 3]]"
      ]
     },
     "execution_count": 49,
     "metadata": {},
     "output_type": "execute_result"
    }
   ],
   "source": [
    "hoanvi(3)"
   ]
  },
  {
   "cell_type": "code",
   "execution_count": 53,
   "metadata": {},
   "outputs": [],
   "source": [
    "#1.20\n",
    "def chinhhop(n,r):\n",
    "    if r==1:\n",
    "        return [[i] for i in range (1,n+1)]\n",
    "    A=[]\n",
    "    for a in chinhhop(n,r-1):\n",
    "        C= set([i for i in range (1,n+1)])-set(a)\n",
    "        for i in C:\n",
    "            b=a.copy()\n",
    "            b.append(i)\n",
    "            A.append(b)\n",
    "    return A"
   ]
  },
  {
   "cell_type": "code",
   "execution_count": 54,
   "metadata": {},
   "outputs": [
    {
     "data": {
      "text/plain": [
       "[[1, 2, 3],\n",
       " [1, 2, 4],\n",
       " [1, 3, 2],\n",
       " [1, 3, 4],\n",
       " [1, 4, 2],\n",
       " [1, 4, 3],\n",
       " [2, 1, 3],\n",
       " [2, 1, 4],\n",
       " [2, 3, 1],\n",
       " [2, 3, 4],\n",
       " [2, 4, 1],\n",
       " [2, 4, 3],\n",
       " [3, 1, 2],\n",
       " [3, 1, 4],\n",
       " [3, 2, 1],\n",
       " [3, 2, 4],\n",
       " [3, 4, 1],\n",
       " [3, 4, 2],\n",
       " [4, 1, 2],\n",
       " [4, 1, 3],\n",
       " [4, 2, 1],\n",
       " [4, 2, 3],\n",
       " [4, 3, 1],\n",
       " [4, 3, 2]]"
      ]
     },
     "execution_count": 54,
     "metadata": {},
     "output_type": "execute_result"
    }
   ],
   "source": [
    "chinhhop(4,3)"
   ]
  },
  {
   "cell_type": "code",
   "execution_count": null,
   "metadata": {},
   "outputs": [],
   "source": []
  }
 ],
 "metadata": {
  "kernelspec": {
   "display_name": "Python 3",
   "language": "python",
   "name": "python3"
  },
  "language_info": {
   "codemirror_mode": {
    "name": "ipython",
    "version": 3
   },
   "file_extension": ".py",
   "mimetype": "text/x-python",
   "name": "python",
   "nbconvert_exporter": "python",
   "pygments_lexer": "ipython3",
   "version": "3.11.3"
  },
  "orig_nbformat": 4,
  "vscode": {
   "interpreter": {
    "hash": "7e5c0badbb2d24bbc3f94f0128230c51073dab69f6205fe8338cbe6039d785c3"
   }
  }
 },
 "nbformat": 4,
 "nbformat_minor": 2
}
