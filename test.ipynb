{
 "cells": [
  {
   "cell_type": "code",
   "execution_count": 1,
   "metadata": {},
   "outputs": [
    {
     "name": "stdout",
     "output_type": "stream",
     "text": [
      "Số cách sắp xếp 2 bi xanh, 3 bi đỏ và 2 bi vàng là: 11550\n"
     ]
    }
   ],
   "source": [
    "import itertools\n",
    "\n",
    "n = 9  # Độ dài của chuỗi nhị phân\n",
    "target_index = 217  # Số thứ tự cần tìm\n",
    "\n",
    "binary_strings = [''.join(seq) for seq in itertools.product('01', repeat=n)]\n",
    "binary_strings.sort()  # Sắp xếp chuỗi theo thứ tự từ điển\n",
    "\n",
    "if target_index <= len(binary_strings):\n",
    "    target_string = binary_strings[target_index - 1]\n",
    "    print(\"Sâu thứ\", target_index, \"là:\", target_string)\n",
    "else:\n",
    "    print(\"Không tìm thấy sâu thứ\", target_index)"
   ]
  },
  {
   "cell_type": "code",
   "execution_count": null,
   "metadata": {},
   "outputs": [],
   "source": [
    "3# Tìm xâu nhị phân đứng sau 011\n",
    "def next_binary_string(s):\n",
    "  \"\"\"\n",
    "  Tìm xâu nhị phân đứng sau xâu s.\n",
    "\n",
    "  Tham số:\n",
    "    s: Xâu nhị phân.\n",
    "\n",
    "  Trả về:\n",
    "    Xâu nhị phân đứng sau s.\n",
    "  \"\"\"\n",
    "\n",
    "  i = len(s) - 1\n",
    "  while s[i] == '1':\n",
    "    i -= 1\n",
    "\n",
    "  # Thay đổi bit 0 đầu tiên thành 1.\n",
    "  s = s[:i] + '1' + s[i+1:]\n",
    "\n",
    "  # Chuyển đổi tất cả các bit sau thành 0.\n",
    "  return s[:i+1] + '0' * (len(s) - i - 1)\n",
    "\n",
    "# Ví dụ\n",
    "s = '011'\n",
    "next_string = next_binary_string(s)\n",
    "print(f\"Xâu nhị phân đứng sau {s} là: {next_string}\")"
   ]
  },
  {
   "cell_type": "code",
   "execution_count": 3,
   "metadata": {},
   "outputs": [
    {
     "name": "stdout",
     "output_type": "stream",
     "text": [
      "Từ xếp thứ 11 trong các hoán vị của từ aaabbbcccc là: ('a', 'a', 'a', 'b', 'b', 'b', 'c', 'c', 'c', 'c')\n"
     ]
    }
   ],
   "source": [
    "# TRong các hoán vị trên hoán vị thứ 10 là\n",
    "from itertools import permutations\n",
    "\n",
    "def find_kth_permutation(word, k):\n",
    "  \"\"\"\n",
    "  Tìm từ xếp thứ k trong các hoán vị của từ theo thứ tự từ điển.\n",
    "\n",
    "  Tham số:\n",
    "    word: Từ cần tìm hoán vị.\n",
    "    k: Vị trí của từ cần tìm (1-based).\n",
    "\n",
    "  Trả về:\n",
    "    Từ xếp thứ k trong các hoán vị của từ.\n",
    "  \"\"\"\n",
    "\n",
    "  # Tạo danh sách chứa tất cả các hoán vị của từ.\n",
    "  permutations_list = list(permutations(word))\n",
    "\n",
    "  # Sắp xếp danh sách theo thứ tự từ điển.\n",
    "  permutations_list.sort()\n",
    "\n",
    "  # Lấy phần tử thứ k trong danh sách.\n",
    "  return permutations_list[k - 1]\n",
    "\n",
    "# Ví dụ\n",
    "word = \"aaabbbcccc\"\n",
    "k = 11\n",
    "kth_permutation = find_kth_permutation(word, k)\n",
    "print(f\"Từ xếp thứ {k} trong các hoán vị của từ {word} là: {kth_permutation}\")"
   ]
  },
  {
   "cell_type": "code",
   "execution_count": null,
   "metadata": {},
   "outputs": [],
   "source": [
    "from itertools import combinations\n",
    "\n",
    "combination = \"12569\"\n",
    "\n",
    "# Tạo danh sách các tổ hợp\n",
    "combinations_list = sorted(\"\".join(c) for r in range(1, len(combination) + 1) for c in combinations(combination, r))\n",
    "\n",
    "# Tìm vị trí của tổ hợp trong danh sách\n",
    "index = combinations_list.index(combination)\n",
    "\n",
    "# Tìm tổ hợp đứng sau\n",
    "next_combination = combinations_list[index + 1] if index < len(combinations_list) - 1 else None\n",
    "\n",
    "print(\"Tổ hợp đứng sau\", combination, \"là\", next_combination)"
   ]
  }
 ],
 "metadata": {
  "kernelspec": {
   "display_name": "Python 3",
   "language": "python",
   "name": "python3"
  },
  "language_info": {
   "codemirror_mode": {
    "name": "ipython",
    "version": 3
   },
   "file_extension": ".py",
   "mimetype": "text/x-python",
   "name": "python",
   "nbconvert_exporter": "python",
   "pygments_lexer": "ipython3",
   "version": "3.11.8"
  }
 },
 "nbformat": 4,
 "nbformat_minor": 2
}
