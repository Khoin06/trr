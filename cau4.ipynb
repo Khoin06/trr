{
 "cells": [
  {
   "cell_type": "code",
   "execution_count": 1,
   "metadata": {},
   "outputs": [
    {
     "name": "stdout",
     "output_type": "stream",
     "text": [
      "Xâu chứa các giá trị của P: 00000111\n"
     ]
    }
   ],
   "source": [
    "def truth_table(p, q, r):\n",
    "  values = []\n",
    "  for p_val in [False, True]:\n",
    "    for q_val in [False, True]:\n",
    "      for r_val in [False, True]:\n",
    "        p_value = p_val and q_val or (r_val and p_val)\n",
    "        values.append(str(int(p_value)))\n",
    "  return \"\".join(values)\n",
    "\n",
    "# Tạo bảng chân trị\n",
    "truth_table(False, False, False)\n",
    "\n"
   ]
  }
 ],
 "metadata": {
  "kernelspec": {
   "display_name": "Python 3",
   "language": "python",
   "name": "python3"
  },
  "language_info": {
   "codemirror_mode": {
    "name": "ipython",
    "version": 3
   },
   "file_extension": ".py",
   "mimetype": "text/x-python",
   "name": "python",
   "nbconvert_exporter": "python",
   "pygments_lexer": "ipython3",
   "version": "3.11.8"
  }
 },
 "nbformat": 4,
 "nbformat_minor": 2
}
