{
 "cells": [
  {
   "cell_type": "code",
   "execution_count": 5,
   "metadata": {},
   "outputs": [
    {
     "data": {
      "text/plain": [
       "720"
      ]
     },
     "execution_count": 5,
     "metadata": {},
     "output_type": "execute_result"
    }
   ],
   "source": [
    "def hoanviso(n):\n",
    "    if n==1:\n",
    "        return [[1]]\n",
    "    A=[]\n",
    "    for a in hoanviso(n-1):\n",
    "        for i in range (n):\n",
    "            b=a.copy()\n",
    "            b.insert(i,n)\n",
    "            A.append(b)\n",
    "    return A\n",
    "len(hoanviso(6 ))"
   ]
  },
  {
   "cell_type": "code",
   "execution_count": 3,
   "metadata": {},
   "outputs": [
    {
     "data": {
      "text/plain": [
       "['a', 'e', 'b', 'c', 'd']"
      ]
     },
     "execution_count": 3,
     "metadata": {},
     "output_type": "execute_result"
    }
   ],
   "source": [
    "from sympy import *\n",
    "def hoanvi(l):\n",
    "    if len(l)==1:\n",
    "        return [l]\n",
    "    A=[]\n",
    "    n=len(l)\n",
    "    for i in range (n):\n",
    "        lc=l.copy()\n",
    "        x=lc.pop(i)\n",
    "        for a in hoanvi(lc):\n",
    "            a.insert(0,x)\n",
    "            A.append(a)\n",
    "    return A\n",
    "\n",
    "hoanvi(['a','b','c','d','e'])[18]"
   ]
  }
 ],
 "metadata": {
  "kernelspec": {
   "display_name": "Python 3",
   "language": "python",
   "name": "python3"
  },
  "language_info": {
   "codemirror_mode": {
    "name": "ipython",
    "version": 3
   },
   "file_extension": ".py",
   "mimetype": "text/x-python",
   "name": "python",
   "nbconvert_exporter": "python",
   "pygments_lexer": "ipython3",
   "version": "3.11.8"
  }
 },
 "nbformat": 4,
 "nbformat_minor": 2
}
