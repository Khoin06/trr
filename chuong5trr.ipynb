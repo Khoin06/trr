{
 "cells": [
  {
   "cell_type": "code",
   "execution_count": 10,
   "metadata": {},
   "outputs": [
    {
     "data": {
      "text/plain": [
       "1024"
      ]
     },
     "execution_count": 10,
     "metadata": {},
     "output_type": "execute_result"
    }
   ],
   "source": [
    "from sympy import *\n",
    "def ppchiadoi(a,n):\n",
    "    x=1\n",
    "    i=n\n",
    "    while i>0:\n",
    "        if i%2!=0:\n",
    "            x=x*a\n",
    "        a=a*a\n",
    "        i = floor (i/2)\n",
    "    return x\n",
    "ppchiadoi(2,10)"
   ]
  },
  {
   "cell_type": "code",
   "execution_count": 2,
   "metadata": {},
   "outputs": [
    {
     "data": {
      "text/latex": [
       "$\\displaystyle 36$"
      ],
      "text/plain": [
       "36"
      ]
     },
     "execution_count": 2,
     "metadata": {},
     "output_type": "execute_result"
    }
   ],
   "source": [
    "# Số toàn ánh từ tập cỡ m vào tập cỡ n\n",
    "from sympy import *\n",
    "m=4\n",
    "n=3\n",
    "k = symbols('k')\n",
    "Sum((-1)**k*binomial(n,k)*(n-k)**m,(k,0,n)).doit()"
   ]
  },
  {
   "cell_type": "code",
   "execution_count": 5,
   "metadata": {},
   "outputs": [
    {
     "data": {
      "text/plain": [
       "90"
      ]
     },
     "execution_count": 5,
     "metadata": {},
     "output_type": "execute_result"
    }
   ],
   "source": [
    "# Số Stirling loại II\n",
    "# Có thể hiểu là chia m vật vào n hộp sao cho ko có hộp nào rỗng\n",
    "def S(m,n):\n",
    "    if m==n or n==1:\n",
    "        return 1\n",
    "    return S(m-1,n-1)+n*S(m-1,n)\n",
    "S(6,3)"
   ]
  }
 ],
 "metadata": {
  "kernelspec": {
   "display_name": "Python 3",
   "language": "python",
   "name": "python3"
  },
  "language_info": {
   "codemirror_mode": {
    "name": "ipython",
    "version": 3
   },
   "file_extension": ".py",
   "mimetype": "text/x-python",
   "name": "python",
   "nbconvert_exporter": "python",
   "pygments_lexer": "ipython3",
   "version": "3.11.3"
  },
  "orig_nbformat": 4
 },
 "nbformat": 4,
 "nbformat_minor": 2
}
