{
 "cells": [
  {
   "cell_type": "code",
   "execution_count": 1,
   "metadata": {},
   "outputs": [
    {
     "data": {
      "text/plain": [
       "512"
      ]
     },
     "execution_count": 1,
     "metadata": {},
     "output_type": "execute_result"
    }
   ],
   "source": [
    "def tongrieng(n):\n",
    "    if n==1:\n",
    "        return [[1]]\n",
    "    A=[]\n",
    "    for k in tongrieng(n-1):\n",
    "        for a in range (0,len(k)):\n",
    "            c=k.copy()\n",
    "            c[a]+=1\n",
    "            A.append(c)\n",
    "        k.append(1)\n",
    "        A.append(k)\n",
    "    B=[]\n",
    "    for f in A:\n",
    "        count=0\n",
    "        for g in B:\n",
    "            if f == g:\n",
    "                count+=1\n",
    "        if count == 0:\n",
    "            B.append(f)\n",
    "    return B\n",
    "len(tongrieng(10))"
   ]
  },
  {
   "cell_type": "code",
   "execution_count": 1,
   "metadata": {},
   "outputs": [
    {
     "data": {
      "text/plain": [
       "[2, 3, 1, 1]"
      ]
     },
     "execution_count": 1,
     "metadata": {},
     "output_type": "execute_result"
    }
   ],
   "source": [
    "def tongrieng(n):\n",
    "    if n==1:\n",
    "        return [[1]]\n",
    "    A=[]\n",
    "    for k in tongrieng(n-1):\n",
    "        for a in range (0,len(k)):\n",
    "            c=k.copy()\n",
    "            c[a]+=1\n",
    "            A.append(c)\n",
    "        k.append(1)\n",
    "        A.append(k)\n",
    "    B=[]\n",
    "    for f in A:\n",
    "        count=0\n",
    "        for g in B:\n",
    "            if f == g:\n",
    "                count+=1\n",
    "        if count == 0:\n",
    "            B.append(f)\n",
    "    return B\n",
    "tongrieng(10)[19]"
   ]
  }
 ],
 "metadata": {
  "kernelspec": {
   "display_name": "Python 3",
   "language": "python",
   "name": "python3"
  },
  "language_info": {
   "codemirror_mode": {
    "name": "ipython",
    "version": 3
   },
   "file_extension": ".py",
   "mimetype": "text/x-python",
   "name": "python",
   "nbconvert_exporter": "python",
   "pygments_lexer": "ipython3",
   "version": "3.11.8"
  }
 },
 "nbformat": 4,
 "nbformat_minor": 2
}
